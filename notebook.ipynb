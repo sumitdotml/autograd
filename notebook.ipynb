{
 "cells": [
  {
   "cell_type": "code",
   "execution_count": 1,
   "metadata": {},
   "outputs": [],
   "source": [
    "import numpy as np"
   ]
  },
  {
   "cell_type": "markdown",
   "metadata": {},
   "source": [
    "First, let me start this with something simple.\n",
    "\n",
    "Let me consider y = x*2. If I want to compute dy/dx, I know the answer should be 2. But how would an autograd system compute this?"
   ]
  },
  {
   "cell_type": "code",
   "execution_count": 2,
   "metadata": {},
   "outputs": [],
   "source": [
    "# Value class\n",
    "\n",
    "class Value:\n",
    "    def __init__(self, data):\n",
    "        self.data = data\n",
    "        self.grad = 0\n",
    "        self._op = None\n",
    "        self._inputs = []\n",
    "    \n",
    "    def __mul__(self, other):\n",
    "        if not isinstance(other, Value):\n",
    "            other = Value(other)\n",
    "        result = Value(self.data * other.data)\n",
    "        result._op = 'mul'\n",
    "        result._inputs = [self, other]\n",
    "        return result\n",
    "    \n",
    "    def backward(self):\n",
    "        self.grad = 1\n",
    "\n",
    "        topo = []\n",
    "        visited = set()\n",
    "        def build_topo(v):\n",
    "            if v not in visited:\n",
    "                visited.add(v)\n",
    "                for child in v._inputs:\n",
    "                    build_topo(child)\n",
    "                topo.append(v)\n",
    "                \n",
    "        build_topo(self)\n",
    "\n",
    "        for v in reversed(topo):\n",
    "            if v._op == 'mul':\n",
    "                a, b = v._inputs\n",
    "                a.grad += v.grad * b.data\n",
    "                b.grad += v.grad * a.data"
   ]
  },
  {
   "cell_type": "code",
   "execution_count": 3,
   "metadata": {},
   "outputs": [],
   "source": [
    "x = Value(3)\n",
    "y = x * 2\n",
    "z = y * 5"
   ]
  },
  {
   "cell_type": "code",
   "execution_count": 4,
   "metadata": {},
   "outputs": [],
   "source": [
    "z.backward()"
   ]
  },
  {
   "cell_type": "code",
   "execution_count": 5,
   "metadata": {},
   "outputs": [
    {
     "name": "stdout",
     "output_type": "stream",
     "text": [
      "5\n"
     ]
    }
   ],
   "source": [
    "print(y.grad)"
   ]
  },
  {
   "cell_type": "code",
   "execution_count": 6,
   "metadata": {},
   "outputs": [
    {
     "name": "stdout",
     "output_type": "stream",
     "text": [
      "10\n"
     ]
    }
   ],
   "source": [
    "print(x.grad)"
   ]
  },
  {
   "cell_type": "markdown",
   "metadata": {},
   "source": [
    "Time to add addition."
   ]
  },
  {
   "cell_type": "code",
   "execution_count": 18,
   "metadata": {},
   "outputs": [],
   "source": [
    "# Value class\n",
    "\n",
    "class Value:\n",
    "    def __init__(self, data, label = ''):\n",
    "        self.data = data\n",
    "        self.grad = 0\n",
    "        self.label = label\n",
    "        self._op = None\n",
    "        self._prev = []\n",
    "\n",
    "    def __add__(self, other):\n",
    "        if not isinstance(other, Value):\n",
    "            other = Value(other)\n",
    "        result = Value(self.data + other.data, label='+')\n",
    "        result._op = 'add'\n",
    "        result._prev = [self, other]\n",
    "        return result\n",
    "    \n",
    "    def __mul__(self, other):\n",
    "        if not isinstance(other, Value):\n",
    "            other = Value(other)\n",
    "        result = Value(self.data * other.data, label='*')\n",
    "        result._op = 'mul'\n",
    "        result._prev = [self, other]\n",
    "        return result\n",
    "    \n",
    "    def backward(self):\n",
    "        self.grad = 1\n",
    "\n",
    "        topo = []\n",
    "        visited = set()\n",
    "        def build_topo(v):\n",
    "            if v not in visited:\n",
    "                visited.add(v)\n",
    "                for child in v._prev:\n",
    "                    build_topo(child)\n",
    "                topo.append(v)\n",
    "                \n",
    "        build_topo(self)\n",
    "\n",
    "        for v in reversed(topo):\n",
    "            if v._op == 'mul':\n",
    "                a, b = v._prev\n",
    "                a.grad += v.grad * b.data # here v.grad is an upstream gradient, b.data is the local gradient\n",
    "                b.grad += v.grad * a.data\n",
    "            \n",
    "            if v._op == 'add':\n",
    "                a, b = v._prev\n",
    "                a.grad += v.grad * 1 # here v.grad is an upstream gradient, 1 is the local gradient\n",
    "                b.grad += v.grad * 1"
   ]
  },
  {
   "cell_type": "code",
   "execution_count": 19,
   "metadata": {},
   "outputs": [],
   "source": [
    "from graphviz import Digraph\n",
    "\n",
    "def trace(root):\n",
    "    nodes, edges = set(), set()\n",
    "    def build(v):\n",
    "        if v not in nodes:\n",
    "            nodes.add(v)\n",
    "            for child in v._prev:\n",
    "                edges.add((child, v))\n",
    "                build(child)\n",
    "    build(root)\n",
    "    return nodes, edges\n",
    "\n",
    "def draw_dot(root):\n",
    "    dot = Digraph(format='svg', graph_attr={'rankdir': 'LR'})\n",
    "    nodes, edges = trace(root)\n",
    "    for n in nodes:\n",
    "        uid = str(id(n))\n",
    "        dot.node(name=uid, label=f\"{{ data: {n.data:.4f} | grad: {n.grad:.4f} }}\", shape='record')\n",
    "        if n._op:\n",
    "            dot.node(name=uid + n._op, label=n._op)\n",
    "            dot.edge(uid + n._op, uid)\n",
    "    for n1, n2 in edges:\n",
    "        dot.edge(str(id(n1)), str(id(n2)) + n2._op)\n",
    "    return dot"
   ]
  },
  {
   "cell_type": "code",
   "execution_count": 20,
   "metadata": {},
   "outputs": [],
   "source": [
    "a = Value(2)\n",
    "b = a + 3  # b = 2 + 3 = 5\n",
    "c = a * 2  # c = 2 * 2 = 4\n",
    "d = b + c  # d = 5 + 4 = 9"
   ]
  },
  {
   "cell_type": "code",
   "execution_count": 21,
   "metadata": {},
   "outputs": [],
   "source": [
    "def draw_ascii(root):\n",
    "    nodes, edges = trace(root)\n",
    "    print(\"Computation Graph:\")\n",
    "    for node in nodes:\n",
    "        print(f\"Node {id(node)} [data={node.data:.4f}, grad={node.grad:.4f}]\")\n",
    "    for (n1, n2) in edges:\n",
    "        print(f\"Node {id(n1)} -> Node {id(n2)} (label: {n2.label})\")"
   ]
  },
  {
   "cell_type": "code",
   "execution_count": 22,
   "metadata": {},
   "outputs": [
    {
     "name": "stdout",
     "output_type": "stream",
     "text": [
      "Computation Graph:\n",
      "Node 4364205600 [data=9.0000, grad=0.0000]\n",
      "Node 4365091456 [data=4.0000, grad=0.0000]\n",
      "Node 4364205936 [data=2.0000, grad=0.0000]\n",
      "Node 4365093280 [data=2.0000, grad=0.0000]\n",
      "Node 4365437872 [data=3.0000, grad=0.0000]\n",
      "Node 4365608896 [data=5.0000, grad=0.0000]\n",
      "Node 4365091456 -> Node 4364205600 (label: +)\n",
      "Node 4365093280 -> Node 4365608896 (label: +)\n",
      "Node 4364205936 -> Node 4365091456 (label: *)\n",
      "Node 4365093280 -> Node 4365091456 (label: *)\n",
      "Node 4365437872 -> Node 4365608896 (label: +)\n",
      "Node 4365608896 -> Node 4364205600 (label: +)\n"
     ]
    }
   ],
   "source": [
    "draw_ascii(d)"
   ]
  },
  {
   "cell_type": "code",
   "execution_count": 23,
   "metadata": {},
   "outputs": [
    {
     "name": "stdout",
     "output_type": "stream",
     "text": [
      "Computation Graph:\n",
      "Node 4364205600 [data=9.0000, grad=1.0000]\n",
      "Node 4365091456 [data=4.0000, grad=1.0000]\n",
      "Node 4364205936 [data=2.0000, grad=2.0000]\n",
      "Node 4365093280 [data=2.0000, grad=3.0000]\n",
      "Node 4365437872 [data=3.0000, grad=1.0000]\n",
      "Node 4365608896 [data=5.0000, grad=1.0000]\n",
      "Node 4365091456 -> Node 4364205600 (label: +)\n",
      "Node 4365093280 -> Node 4365608896 (label: +)\n",
      "Node 4364205936 -> Node 4365091456 (label: *)\n",
      "Node 4365093280 -> Node 4365091456 (label: *)\n",
      "Node 4365437872 -> Node 4365608896 (label: +)\n",
      "Node 4365608896 -> Node 4364205600 (label: +)\n"
     ]
    }
   ],
   "source": [
    "d.grad = 1\n",
    "d.backward()  # backward pass\n",
    "draw_ascii(d)"
   ]
  },
  {
   "cell_type": "code",
   "execution_count": null,
   "metadata": {},
   "outputs": [],
   "source": []
  }
 ],
 "metadata": {
  "kernelspec": {
   "display_name": "venv_python",
   "language": "python",
   "name": "python3"
  },
  "language_info": {
   "codemirror_mode": {
    "name": "ipython",
    "version": 3
   },
   "file_extension": ".py",
   "mimetype": "text/x-python",
   "name": "python",
   "nbconvert_exporter": "python",
   "pygments_lexer": "ipython3",
   "version": "3.9.6"
  }
 },
 "nbformat": 4,
 "nbformat_minor": 2
}
